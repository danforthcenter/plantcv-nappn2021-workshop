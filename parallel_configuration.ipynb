{
 "cells": [
  {
   "cell_type": "code",
   "execution_count": 1,
   "metadata": {},
   "outputs": [],
   "source": [
    "from plantcv.parallel import WorkflowConfig"
   ]
  },
  {
   "cell_type": "code",
   "execution_count": 2,
   "metadata": {},
   "outputs": [],
   "source": [
    "# Create a new configuration\n",
    "config = WorkflowConfig()"
   ]
  },
  {
   "cell_type": "code",
   "execution_count": 3,
   "metadata": {},
   "outputs": [],
   "source": [
    "# Save as a template\n",
    "config.save_config(config_file=\"workflow.config\")"
   ]
  },
  {
   "cell_type": "code",
   "execution_count": 4,
   "metadata": {},
   "outputs": [],
   "source": [
    "# Test viewing a saved config\n",
    "config.import_config(config_file=\"multi-plant-analysis.config\")"
   ]
  },
  {
   "cell_type": "code",
   "execution_count": 5,
   "metadata": {},
   "outputs": [
    {
     "data": {
      "text/plain": [
       "{'input_dir': './imgs',\n",
       " 'json': 'multi-plant-results.json',\n",
       " 'filename_metadata': ['camera', 'id', 'timestamp'],\n",
       " 'workflow': 'completed_multi_plant_notebook.py',\n",
       " 'img_outdir': './output_images',\n",
       " 'tmp_dir': None,\n",
       " 'start_date': None,\n",
       " 'end_date': None,\n",
       " 'imgformat': 'jpg',\n",
       " 'delimiter': '_',\n",
       " 'metadata_filters': {},\n",
       " 'timestampformat': '%Y-%m-%d-%H-%M',\n",
       " 'writeimg': False,\n",
       " 'other_args': [],\n",
       " 'coprocess': None,\n",
       " 'cleanup': True,\n",
       " 'append': False,\n",
       " 'cluster': 'LocalCluster',\n",
       " 'cluster_config': {'n_workers': 1,\n",
       "  'cores': 1,\n",
       "  'memory': '1GB',\n",
       "  'disk': '1GB',\n",
       "  'log_directory': None,\n",
       "  'local_directory': None,\n",
       "  'job_extra': None},\n",
       " 'metadata_terms': {'camera': {'label': 'camera identifier',\n",
       "   'datatype': \"<class 'str'>\",\n",
       "   'value': 'none'},\n",
       "  'imgtype': {'label': 'image type',\n",
       "   'datatype': \"<class 'str'>\",\n",
       "   'value': 'none'},\n",
       "  'zoom': {'label': 'camera zoom setting',\n",
       "   'datatype': \"<class 'str'>\",\n",
       "   'value': 'none'},\n",
       "  'exposure': {'label': 'camera exposure setting',\n",
       "   'datatype': \"<class 'str'>\",\n",
       "   'value': 'none'},\n",
       "  'gain': {'label': 'camera gain setting',\n",
       "   'datatype': \"<class 'str'>\",\n",
       "   'value': 'none'},\n",
       "  'frame': {'label': 'image series frame identifier',\n",
       "   'datatype': \"<class 'str'>\",\n",
       "   'value': 'none'},\n",
       "  'lifter': {'label': 'imaging platform height setting',\n",
       "   'datatype': \"<class 'str'>\",\n",
       "   'value': 'none'},\n",
       "  'timestamp': {'label': 'datetime of image',\n",
       "   'datatype': \"<class 'datetime.datetime'>\",\n",
       "   'value': None},\n",
       "  'id': {'label': 'image identifier',\n",
       "   'datatype': \"<class 'str'>\",\n",
       "   'value': 'none'},\n",
       "  'plantbarcode': {'label': 'plant barcode identifier',\n",
       "   'datatype': \"<class 'str'>\",\n",
       "   'value': 'none'},\n",
       "  'treatment': {'label': 'treatment identifier',\n",
       "   'datatype': \"<class 'str'>\",\n",
       "   'value': 'none'},\n",
       "  'cartag': {'label': 'plant carrier identifier',\n",
       "   'datatype': \"<class 'str'>\",\n",
       "   'value': 'none'},\n",
       "  'measurementlabel': {'label': 'experiment identifier',\n",
       "   'datatype': \"<class 'str'>\",\n",
       "   'value': 'none'},\n",
       "  'other': {'label': 'other identifier',\n",
       "   'datatype': \"<class 'str'>\",\n",
       "   'value': 'none'}}}"
      ]
     },
     "execution_count": 5,
     "metadata": {},
     "output_type": "execute_result"
    }
   ],
   "source": [
    "# Print the configuration options as a dictionary\n",
    "config.__dict__"
   ]
  },
  {
   "cell_type": "code",
   "execution_count": null,
   "metadata": {},
   "outputs": [],
   "source": []
  }
 ],
 "metadata": {
  "kernelspec": {
   "display_name": "Python 3",
   "language": "python",
   "name": "python3"
  },
  "language_info": {
   "codemirror_mode": {
    "name": "ipython",
    "version": 3
   },
   "file_extension": ".py",
   "mimetype": "text/x-python",
   "name": "python",
   "nbconvert_exporter": "python",
   "pygments_lexer": "ipython3",
   "version": "3.7.7"
  }
 },
 "nbformat": 4,
 "nbformat_minor": 4
}
